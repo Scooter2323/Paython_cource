{
  "cells": [
    {
      "cell_type": "markdown",
      "metadata": {
        "id": "view-in-github",
        "colab_type": "text"
      },
      "source": [
        "<a href=\"https://colab.research.google.com/github/Scooter2323/Paython_cource/blob/main/HR_Director_Recruitment_CrewAI_1.ipynb\" target=\"_parent\"><img src=\"https://colab.research.google.com/assets/colab-badge.svg\" alt=\"Open In Colab\"/></a>"
      ]
    },
    {
      "cell_type": "markdown",
      "metadata": {
        "id": "header"
      },
      "source": [
        "# 🧠 HR Director Recruitment System with CrewAI\n",
        "**Open in Colab**\n",
        "\n",
        "This notebook demonstrates how to:\n",
        "- Set up CrewAI environment in Colab\n",
        "- Collect HR Director candidate profiles (Moldova & Ukraine)\n",
        "- Generate personalized recruitment pitches\n",
        "- Use multi-agent workflows for recruitment automation"
      ]
    },
    {
      "cell_type": "markdown",
      "metadata": {
        "id": "setup_section"
      },
      "source": [
        "## 🚀 Setup Section\n",
        "Install dependencies and configure the environment"
      ]
    },
    {
      "cell_type": "code",
      "execution_count": 1,
      "metadata": {
        "id": "hide_warnings"
      },
      "outputs": [],
      "source": [
        "# @title 👨‍🦯 Hide warnings (optional)\n",
        "import warnings\n",
        "warnings.filterwarnings('ignore')"
      ]
    },
    {
      "cell_type": "code",
      "execution_count": 2,
      "metadata": {
        "id": "install_deps",
        "colab": {
          "base_uri": "https://localhost:8080/"
        },
        "outputId": "2d9a7981-e969-4bfa-a896-f7cd00015846"
      },
      "outputs": [
        {
          "output_type": "stream",
          "name": "stdout",
          "text": [
            "  Installing build dependencies ... \u001b[?25l\u001b[?25hdone\n",
            "  Getting requirements to build wheel ... \u001b[?25l\u001b[?25hdone\n",
            "  Preparing metadata (pyproject.toml) ... \u001b[?25l\u001b[?25hdone\n",
            "\u001b[2K     \u001b[90m━━━━━━━━━━━━━━━━━━━━━━━━━━━━━━━━━━━━━━━━\u001b[0m \u001b[32m42.8/42.8 kB\u001b[0m \u001b[31m3.5 MB/s\u001b[0m eta \u001b[36m0:00:00\u001b[0m\n",
            "\u001b[2K     \u001b[90m━━━━━━━━━━━━━━━━━━━━━━━━━━━━━━━━━━━━━━━━\u001b[0m \u001b[32m67.3/67.3 kB\u001b[0m \u001b[31m5.4 MB/s\u001b[0m eta \u001b[36m0:00:00\u001b[0m\n",
            "\u001b[?25h  Installing build dependencies ... \u001b[?25l\u001b[?25hdone\n",
            "  Getting requirements to build wheel ... \u001b[?25l\u001b[?25hdone\n",
            "  Preparing metadata (pyproject.toml) ... \u001b[?25l\u001b[?25hdone\n",
            "\u001b[2K     \u001b[90m━━━━━━━━━━━━━━━━━━━━━━━━━━━━━━━━━━━━━━━━\u001b[0m \u001b[32m48.2/48.2 kB\u001b[0m \u001b[31m3.2 MB/s\u001b[0m eta \u001b[36m0:00:00\u001b[0m\n",
            "\u001b[2K     \u001b[90m━━━━━━━━━━━━━━━━━━━━━━━━━━━━━━━━━━━━━━━━\u001b[0m \u001b[32m44.3/44.3 kB\u001b[0m \u001b[31m3.2 MB/s\u001b[0m eta \u001b[36m0:00:00\u001b[0m\n",
            "\u001b[2K   \u001b[90m━━━━━━━━━━━━━━━━━━━━━━━━━━━━━━━━━━━━━━━━\u001b[0m \u001b[32m8.0/8.0 MB\u001b[0m \u001b[31m62.6 MB/s\u001b[0m eta \u001b[36m0:00:00\u001b[0m\n",
            "\u001b[2K   \u001b[90m━━━━━━━━━━━━━━━━━━━━━━━━━━━━━━━━━━━━━━━━\u001b[0m \u001b[32m16.4/16.4 MB\u001b[0m \u001b[31m67.3 MB/s\u001b[0m eta \u001b[36m0:00:00\u001b[0m\n",
            "\u001b[2K   \u001b[90m━━━━━━━━━━━━━━━━━━━━━━━━━━━━━━━━━━━━━━━━\u001b[0m \u001b[32m138.8/138.8 kB\u001b[0m \u001b[31m10.5 MB/s\u001b[0m eta \u001b[36m0:00:00\u001b[0m\n",
            "\u001b[2K   \u001b[90m━━━━━━━━━━━━━━━━━━━━━━━━━━━━━━━━━━━━━━━━\u001b[0m \u001b[32m19.3/19.3 MB\u001b[0m \u001b[31m61.7 MB/s\u001b[0m eta \u001b[36m0:00:00\u001b[0m\n",
            "\u001b[2K   \u001b[90m━━━━━━━━━━━━━━━━━━━━━━━━━━━━━━━━━━━━━━━━\u001b[0m \u001b[32m94.7/94.7 kB\u001b[0m \u001b[31m7.4 MB/s\u001b[0m eta \u001b[36m0:00:00\u001b[0m\n",
            "\u001b[2K   \u001b[90m━━━━━━━━━━━━━━━━━━━━━━━━━━━━━━━━━━━━━━━━\u001b[0m \u001b[32m65.8/65.8 kB\u001b[0m \u001b[31m4.8 MB/s\u001b[0m eta \u001b[36m0:00:00\u001b[0m\n",
            "\u001b[2K   \u001b[90m━━━━━━━━━━━━━━━━━━━━━━━━━━━━━━━━━━━━━━━━\u001b[0m \u001b[32m55.7/55.7 kB\u001b[0m \u001b[31m4.6 MB/s\u001b[0m eta \u001b[36m0:00:00\u001b[0m\n",
            "\u001b[2K   \u001b[90m━━━━━━━━━━━━━━━━━━━━━━━━━━━━━━━━━━━━━━━━\u001b[0m \u001b[32m118.5/118.5 kB\u001b[0m \u001b[31m9.0 MB/s\u001b[0m eta \u001b[36m0:00:00\u001b[0m\n",
            "\u001b[2K   \u001b[90m━━━━━━━━━━━━━━━━━━━━━━━━━━━━━━━━━━━━━━━━\u001b[0m \u001b[32m196.2/196.2 kB\u001b[0m \u001b[31m14.1 MB/s\u001b[0m eta \u001b[36m0:00:00\u001b[0m\n",
            "\u001b[2K   \u001b[90m━━━━━━━━━━━━━━━━━━━━━━━━━━━━━━━━━━━━━━━━\u001b[0m \u001b[32m60.0/60.0 kB\u001b[0m \u001b[31m3.7 MB/s\u001b[0m eta \u001b[36m0:00:00\u001b[0m\n",
            "\u001b[2K   \u001b[90m━━━━━━━━━━━━━━━━━━━━━━━━━━━━━━━━━━━━━━━━\u001b[0m \u001b[32m5.6/5.6 MB\u001b[0m \u001b[31m62.2 MB/s\u001b[0m eta \u001b[36m0:00:00\u001b[0m\n",
            "\u001b[2K   \u001b[90m━━━━━━━━━━━━━━━━━━━━━━━━━━━━━━━━━━━━━━━━\u001b[0m \u001b[32m756.0/756.0 kB\u001b[0m \u001b[31m36.8 MB/s\u001b[0m eta \u001b[36m0:00:00\u001b[0m\n",
            "\u001b[2K   \u001b[90m━━━━━━━━━━━━━━━━━━━━━━━━━━━━━━━━━━━━━━━━\u001b[0m \u001b[32m236.0/236.0 kB\u001b[0m \u001b[31m16.2 MB/s\u001b[0m eta \u001b[36m0:00:00\u001b[0m\n",
            "\u001b[2K   \u001b[90m━━━━━━━━━━━━━━━━━━━━━━━━━━━━━━━━━━━━━━━━\u001b[0m \u001b[32m18.0/18.0 MB\u001b[0m \u001b[31m28.4 MB/s\u001b[0m eta \u001b[36m0:00:00\u001b[0m\n",
            "\u001b[2K   \u001b[90m━━━━━━━━━━━━━━━━━━━━━━━━━━━━━━━━━━━━━━━━\u001b[0m \u001b[32m284.2/284.2 kB\u001b[0m \u001b[31m20.6 MB/s\u001b[0m eta \u001b[36m0:00:00\u001b[0m\n",
            "\u001b[2K   \u001b[90m━━━━━━━━━━━━━━━━━━━━━━━━━━━━━━━━━━━━━━━━\u001b[0m \u001b[32m1.9/1.9 MB\u001b[0m \u001b[31m73.1 MB/s\u001b[0m eta \u001b[36m0:00:00\u001b[0m\n",
            "\u001b[2K   \u001b[90m━━━━━━━━━━━━━━━━━━━━━━━━━━━━━━━━━━━━━━━━\u001b[0m \u001b[32m3.9/3.9 MB\u001b[0m \u001b[31m98.9 MB/s\u001b[0m eta \u001b[36m0:00:00\u001b[0m\n",
            "\u001b[2K   \u001b[90m━━━━━━━━━━━━━━━━━━━━━━━━━━━━━━━━━━━━━━━━\u001b[0m \u001b[32m8.7/8.7 MB\u001b[0m \u001b[31m100.2 MB/s\u001b[0m eta \u001b[36m0:00:00\u001b[0m\n",
            "\u001b[2K   \u001b[90m━━━━━━━━━━━━━━━━━━━━━━━━━━━━━━━━━━━━━━━━\u001b[0m \u001b[32m101.6/101.6 kB\u001b[0m \u001b[31m8.1 MB/s\u001b[0m eta \u001b[36m0:00:00\u001b[0m\n",
            "\u001b[2K   \u001b[90m━━━━━━━━━━━━━━━━━━━━━━━━━━━━━━━━━━━━━━━━\u001b[0m \u001b[32m105.4/105.4 kB\u001b[0m \u001b[31m7.6 MB/s\u001b[0m eta \u001b[36m0:00:00\u001b[0m\n",
            "\u001b[2K   \u001b[90m━━━━━━━━━━━━━━━━━━━━━━━━━━━━━━━━━━━━━━━━\u001b[0m \u001b[32m220.7/220.7 kB\u001b[0m \u001b[31m15.7 MB/s\u001b[0m eta \u001b[36m0:00:00\u001b[0m\n",
            "\u001b[2K   \u001b[90m━━━━━━━━━━━━━━━━━━━━━━━━━━━━━━━━━━━━━━━━\u001b[0m \u001b[32m71.2/71.2 kB\u001b[0m \u001b[31m5.1 MB/s\u001b[0m eta \u001b[36m0:00:00\u001b[0m\n",
            "\u001b[2K   \u001b[90m━━━━━━━━━━━━━━━━━━━━━━━━━━━━━━━━━━━━━━━━\u001b[0m \u001b[32m2.9/2.9 MB\u001b[0m \u001b[31m79.8 MB/s\u001b[0m eta \u001b[36m0:00:00\u001b[0m\n",
            "\u001b[2K   \u001b[90m━━━━━━━━━━━━━━━━━━━━━━━━━━━━━━━━━━━━━━━━\u001b[0m \u001b[32m46.0/46.0 kB\u001b[0m \u001b[31m3.3 MB/s\u001b[0m eta \u001b[36m0:00:00\u001b[0m\n",
            "\u001b[2K   \u001b[90m━━━━━━━━━━━━━━━━━━━━━━━━━━━━━━━━━━━━━━━━\u001b[0m \u001b[32m392.1/392.1 kB\u001b[0m \u001b[31m25.3 MB/s\u001b[0m eta \u001b[36m0:00:00\u001b[0m\n",
            "\u001b[2K   \u001b[90m━━━━━━━━━━━━━━━━━━━━━━━━━━━━━━━━━━━━━━━━\u001b[0m \u001b[32m459.8/459.8 kB\u001b[0m \u001b[31m29.5 MB/s\u001b[0m eta \u001b[36m0:00:00\u001b[0m\n",
            "\u001b[2K   \u001b[90m━━━━━━━━━━━━━━━━━━━━━━━━━━━━━━━━━━━━━━━━\u001b[0m \u001b[32m86.8/86.8 kB\u001b[0m \u001b[31m6.4 MB/s\u001b[0m eta \u001b[36m0:00:00\u001b[0m\n",
            "\u001b[2K   \u001b[90m━━━━━━━━━━━━━━━━━━━━━━━━━━━━━━━━━━━━━━━━\u001b[0m \u001b[32m99.1/99.1 kB\u001b[0m \u001b[31m7.6 MB/s\u001b[0m eta \u001b[36m0:00:00\u001b[0m\n",
            "\u001b[2K   \u001b[90m━━━━━━━━━━━━━━━━━━━━━━━━━━━━━━━━━━━━━━━━\u001b[0m \u001b[32m1.6/1.6 MB\u001b[0m \u001b[31m60.6 MB/s\u001b[0m eta \u001b[36m0:00:00\u001b[0m\n",
            "\u001b[2K   \u001b[90m━━━━━━━━━━━━━━━━━━━━━━━━━━━━━━━━━━━━━━━━\u001b[0m \u001b[32m266.1/266.1 kB\u001b[0m \u001b[31m18.1 MB/s\u001b[0m eta \u001b[36m0:00:00\u001b[0m\n",
            "\u001b[2K   \u001b[90m━━━━━━━━━━━━━━━━━━━━━━━━━━━━━━━━━━━━━━━━\u001b[0m \u001b[32m4.0/4.0 MB\u001b[0m \u001b[31m98.7 MB/s\u001b[0m eta \u001b[36m0:00:00\u001b[0m\n",
            "\u001b[2K   \u001b[90m━━━━━━━━━━━━━━━━━━━━━━━━━━━━━━━━━━━━━━━━\u001b[0m \u001b[32m6.1/6.1 MB\u001b[0m \u001b[31m106.5 MB/s\u001b[0m eta \u001b[36m0:00:00\u001b[0m\n",
            "\u001b[2K   \u001b[90m━━━━━━━━━━━━━━━━━━━━━━━━━━━━━━━━━━━━━━━━\u001b[0m \u001b[32m79.1/79.1 kB\u001b[0m \u001b[31m5.6 MB/s\u001b[0m eta \u001b[36m0:00:00\u001b[0m\n",
            "\u001b[2K   \u001b[90m━━━━━━━━━━━━━━━━━━━━━━━━━━━━━━━━━━━━━━━━\u001b[0m \u001b[32m453.1/453.1 kB\u001b[0m \u001b[31m28.9 MB/s\u001b[0m eta \u001b[36m0:00:00\u001b[0m\n",
            "\u001b[2K   \u001b[90m━━━━━━━━━━━━━━━━━━━━━━━━━━━━━━━━━━━━━━━━\u001b[0m \u001b[32m469.0/469.0 kB\u001b[0m \u001b[31m27.1 MB/s\u001b[0m eta \u001b[36m0:00:00\u001b[0m\n",
            "\u001b[?25h  Building wheel for crewai (pyproject.toml) ... \u001b[?25l\u001b[?25hdone\n",
            "  Building wheel for pypika (pyproject.toml) ... \u001b[?25l\u001b[?25hdone\n",
            "\u001b[2K   \u001b[90m━━━━━━━━━━━━━━━━━━━━━━━━━━━━━━━━━━━━━━━━\u001b[0m \u001b[32m606.3/606.3 kB\u001b[0m \u001b[31m12.0 MB/s\u001b[0m eta \u001b[36m0:00:00\u001b[0m\n",
            "\u001b[2K   \u001b[90m━━━━━━━━━━━━━━━━━━━━━━━━━━━━━━━━━━━━━━━━\u001b[0m \u001b[32m2.5/2.5 MB\u001b[0m \u001b[31m57.3 MB/s\u001b[0m eta \u001b[36m0:00:00\u001b[0m\n",
            "\u001b[2K   \u001b[90m━━━━━━━━━━━━━━━━━━━━━━━━━━━━━━━━━━━━━━━━\u001b[0m \u001b[32m259.5/259.5 kB\u001b[0m \u001b[31m18.7 MB/s\u001b[0m eta \u001b[36m0:00:00\u001b[0m\n",
            "\u001b[2K   \u001b[90m━━━━━━━━━━━━━━━━━━━━━━━━━━━━━━━━━━━━━━━━\u001b[0m \u001b[32m289.3/289.3 kB\u001b[0m \u001b[31m19.1 MB/s\u001b[0m eta \u001b[36m0:00:00\u001b[0m\n",
            "\u001b[2K   \u001b[90m━━━━━━━━━━━━━━━━━━━━━━━━━━━━━━━━━━━━━━━━\u001b[0m \u001b[32m147.8/147.8 kB\u001b[0m \u001b[31m10.7 MB/s\u001b[0m eta \u001b[36m0:00:00\u001b[0m\n",
            "\u001b[2K   \u001b[90m━━━━━━━━━━━━━━━━━━━━━━━━━━━━━━━━━━━━━━━━\u001b[0m \u001b[32m211.3/211.3 kB\u001b[0m \u001b[31m14.5 MB/s\u001b[0m eta \u001b[36m0:00:00\u001b[0m\n",
            "\u001b[2K   \u001b[90m━━━━━━━━━━━━━━━━━━━━━━━━━━━━━━━━━━━━━━━━\u001b[0m \u001b[32m50.9/50.9 kB\u001b[0m \u001b[31m3.4 MB/s\u001b[0m eta \u001b[36m0:00:00\u001b[0m\n",
            "\u001b[2K   \u001b[90m━━━━━━━━━━━━━━━━━━━━━━━━━━━━━━━━━━━━━━━━\u001b[0m \u001b[32m628.3/628.3 kB\u001b[0m \u001b[31m36.2 MB/s\u001b[0m eta \u001b[36m0:00:00\u001b[0m\n",
            "\u001b[2K   \u001b[90m━━━━━━━━━━━━━━━━━━━━━━━━━━━━━━━━━━━━━━━━\u001b[0m \u001b[32m2.4/2.4 MB\u001b[0m \u001b[31m77.4 MB/s\u001b[0m eta \u001b[36m0:00:00\u001b[0m\n",
            "\u001b[2K   \u001b[90m━━━━━━━━━━━━━━━━━━━━━━━━━━━━━━━━━━━━━━━━\u001b[0m \u001b[32m3.3/3.3 MB\u001b[0m \u001b[31m84.3 MB/s\u001b[0m eta \u001b[36m0:00:00\u001b[0m\n",
            "\u001b[2K   \u001b[90m━━━━━━━━━━━━━━━━━━━━━━━━━━━━━━━━━━━━━━━━\u001b[0m \u001b[32m130.2/130.2 kB\u001b[0m \u001b[31m9.5 MB/s\u001b[0m eta \u001b[36m0:00:00\u001b[0m\n",
            "\u001b[2K   \u001b[90m━━━━━━━━━━━━━━━━━━━━━━━━━━━━━━━━━━━━━━━━\u001b[0m \u001b[32m33.2/33.2 MB\u001b[0m \u001b[31m31.3 MB/s\u001b[0m eta \u001b[36m0:00:00\u001b[0m\n",
            "\u001b[2K   \u001b[90m━━━━━━━━━━━━━━━━━━━━━━━━━━━━━━━━━━━━━━━━\u001b[0m \u001b[32m1.0/1.0 MB\u001b[0m \u001b[31m50.4 MB/s\u001b[0m eta \u001b[36m0:00:00\u001b[0m\n",
            "\u001b[2K   \u001b[90m━━━━━━━━━━━━━━━━━━━━━━━━━━━━━━━━━━━━━━━━\u001b[0m \u001b[32m438.9/438.9 kB\u001b[0m \u001b[31m28.9 MB/s\u001b[0m eta \u001b[36m0:00:00\u001b[0m\n",
            "\u001b[2K   \u001b[90m━━━━━━━━━━━━━━━━━━━━━━━━━━━━━━━━━━━━━━━━\u001b[0m \u001b[32m45.2/45.2 kB\u001b[0m \u001b[31m3.3 MB/s\u001b[0m eta \u001b[36m0:00:00\u001b[0m\n",
            "\u001b[2K   \u001b[90m━━━━━━━━━━━━━━━━━━━━━━━━━━━━━━━━━━━━━━━━\u001b[0m \u001b[32m5.6/5.6 MB\u001b[0m \u001b[31m79.1 MB/s\u001b[0m eta \u001b[36m0:00:00\u001b[0m\n",
            "\u001b[2K   \u001b[90m━━━━━━━━━━━━━━━━━━━━━━━━━━━━━━━━━━━━━━━━\u001b[0m \u001b[32m57.6/57.6 kB\u001b[0m \u001b[31m4.4 MB/s\u001b[0m eta \u001b[36m0:00:00\u001b[0m\n",
            "\u001b[2K   \u001b[90m━━━━━━━━━━━━━━━━━━━━━━━━━━━━━━━━━━━━━━━━\u001b[0m \u001b[32m3.0/3.0 MB\u001b[0m \u001b[31m81.7 MB/s\u001b[0m eta \u001b[36m0:00:00\u001b[0m\n",
            "\u001b[2K   \u001b[90m━━━━━━━━━━━━━━━━━━━━━━━━━━━━━━━━━━━━━━━━\u001b[0m \u001b[32m242.7/242.7 kB\u001b[0m \u001b[31m17.0 MB/s\u001b[0m eta \u001b[36m0:00:00\u001b[0m\n",
            "\u001b[2K   \u001b[90m━━━━━━━━━━━━━━━━━━━━━━━━━━━━━━━━━━━━━━━━\u001b[0m \u001b[32m131.6/131.6 kB\u001b[0m \u001b[31m9.2 MB/s\u001b[0m eta \u001b[36m0:00:00\u001b[0m\n",
            "\u001b[2K   \u001b[90m━━━━━━━━━━━━━━━━━━━━━━━━━━━━━━━━━━━━━━━━\u001b[0m \u001b[32m45.1/45.1 kB\u001b[0m \u001b[31m2.9 MB/s\u001b[0m eta \u001b[36m0:00:00\u001b[0m\n",
            "\u001b[2K   \u001b[90m━━━━━━━━━━━━━━━━━━━━━━━━━━━━━━━━━━━━━━━━\u001b[0m \u001b[32m50.9/50.9 kB\u001b[0m \u001b[31m3.7 MB/s\u001b[0m eta \u001b[36m0:00:00\u001b[0m\n",
            "\u001b[2K   \u001b[90m━━━━━━━━━━━━━━━━━━━━━━━━━━━━━━━━━━━━━━━━\u001b[0m \u001b[32m168.2/168.2 kB\u001b[0m \u001b[31m13.0 MB/s\u001b[0m eta \u001b[36m0:00:00\u001b[0m\n",
            "\u001b[2K   \u001b[90m━━━━━━━━━━━━━━━━━━━━━━━━━━━━━━━━━━━━━━━━\u001b[0m \u001b[32m89.1/89.1 kB\u001b[0m \u001b[31m6.9 MB/s\u001b[0m eta \u001b[36m0:00:00\u001b[0m\n",
            "\u001b[2K   \u001b[90m━━━━━━━━━━━━━━━━━━━━━━━━━━━━━━━━━━━━━━━━\u001b[0m \u001b[32m304.6/304.6 kB\u001b[0m \u001b[31m21.7 MB/s\u001b[0m eta \u001b[36m0:00:00\u001b[0m\n",
            "\u001b[2K   \u001b[90m━━━━━━━━━━━━━━━━━━━━━━━━━━━━━━━━━━━━━━━━\u001b[0m \u001b[32m71.1/71.1 kB\u001b[0m \u001b[31m5.4 MB/s\u001b[0m eta \u001b[36m0:00:00\u001b[0m\n",
            "\u001b[2K   \u001b[90m━━━━━━━━━━━━━━━━━━━━━━━━━━━━━━━━━━━━━━━━\u001b[0m \u001b[32m209.2/209.2 kB\u001b[0m \u001b[31m14.7 MB/s\u001b[0m eta \u001b[36m0:00:00\u001b[0m\n",
            "\u001b[2K   \u001b[90m━━━━━━━━━━━━━━━━━━━━━━━━━━━━━━━━━━━━━━━━\u001b[0m \u001b[32m329.0/329.0 kB\u001b[0m \u001b[31m20.5 MB/s\u001b[0m eta \u001b[36m0:00:00\u001b[0m\n",
            "\u001b[?25h\u001b[31mERROR: pip's dependency resolver does not currently take into account all the packages that are installed. This behaviour is the source of the following dependency conflicts.\n",
            "transformers 4.52.4 requires tokenizers<0.22,>=0.21, but you have tokenizers 0.20.3 which is incompatible.\u001b[0m\u001b[31m\n",
            "\u001b[0mDependencies installed successfully!\n"
          ]
        }
      ],
      "source": [
        "# @title ⬇️ Install project dependencies\n",
        "%pip install git+https://github.com/joaomdmoura/crewAI.git --quiet\n",
        "%pip install crewai_tools langchain_openai langchain_groq langchain_anthropic langchain_community cohere --quiet\n",
        "%pip install -qU langchain-ollama\n",
        "print(\"Dependencies installed successfully!\")"
      ]
    },
    {
      "cell_type": "markdown",
      "metadata": {
        "id": "data_section"
      },
      "source": [
        "## 📊 Candidate Data Module\n",
        "Define candidate profiles for HR Director positions"
      ]
    },
    {
      "cell_type": "code",
      "execution_count": 3,
      "metadata": {
        "id": "candidate_profiles",
        "colab": {
          "base_uri": "https://localhost:8080/"
        },
        "outputId": "87041e93-8d7b-44e8-ba0c-f7625f5aedb0"
      },
      "outputs": [
        {
          "output_type": "stream",
          "name": "stdout",
          "text": [
            "📊 Загружено профилей: 6\n",
            "🇲🇩 Молдова: 3\n",
            "🇺🇦 Украина: 3\n",
            "🎓 С сертификациями: 5\n",
            "✅ База данных готова!\n"
          ]
        }
      ],
      "source": [
        "# @title 📋 Candidate Profiles Database\n",
        "def get_candidate_profiles():\n",
        "    \"\"\"\n",
        "    База данных профилей кандидатов на позицию HR Director\n",
        "    Регион: Молдова и Украина\n",
        "    Отрасли: Разные (не только фарма)\n",
        "    Желательно: CIPD, PHRI, SHRM сертификации\n",
        "    \"\"\"\n",
        "    return [\n",
        "        {\n",
        "            \"Имя\": \"Валерий Кожокару\",\n",
        "            \"Компания\": \"Orange Moldova (Телеком)\",\n",
        "            \"Локация\": \"Кишинёв, Молдова\",\n",
        "            \"Опыт\": \"14 лет в HR, 6 лет HR Director (телеком)\",\n",
        "            \"Навыки\": [\"Стратегический HR\", \"Digital HR\", \"Performance Management\", \"Employer Branding\"],\n",
        "            \"Образование\": \"USM, менеджмент; MBA ASEM\",\n",
        "            \"Сертификации\": [\"CIPD\"],\n",
        "            \"Языки\": [\"Русский\", \"Румынский\", \"Английский\"],\n",
        "            \"Особенности\": \"Опыт цифровизации HR и внедрения agile-подходов\",\n",
        "            \"Профиль\": \"https://linkedin.com/in/valeriu-cojocaru-md\"\n",
        "        },\n",
        "        {\n",
        "            \"Имя\": \"Мария Григореску\",\n",
        "            \"Компания\": \"Moldindconbank (Финансы)\",\n",
        "            \"Локация\": \"Кишинёв, Молдова\",\n",
        "            \"Опыт\": \"12 лет в HR, 5 лет HR Director (банковский сектор)\",\n",
        "            \"Навыки\": [\"Compensation & Benefits\", \"Организационное развитие\", \"DEI\", \"HR Analytics\"],\n",
        "            \"Образование\": \"ASEM, экономика; MBA\",\n",
        "            \"Сертификации\": [\"PHRI\"],\n",
        "            \"Языки\": [\"Румынский\", \"Русский\", \"Английский\"],\n",
        "            \"Особенности\": \"Фокус на аналитике и управлении изменениями\",\n",
        "            \"Профиль\": \"https://linkedin.com/in/maria-grigorescu-md\"\n",
        "        },\n",
        "        {\n",
        "            \"Имя\": \"Сергей Ботнарь\",\n",
        "            \"Компания\": \"Endava (IT)\",\n",
        "            \"Локация\": \"Кишинёв, Молдова\",\n",
        "            \"Опыт\": \"13 лет в HR, 4 года HR Director (IT)\",\n",
        "            \"Навыки\": [\"Talent Acquisition\", \"HR Digitalization\", \"Кросс-культурный менеджмент\", \"Wellbeing\"],\n",
        "            \"Образование\": \"USM, психология; MBA\",\n",
        "            \"Сертификации\": [],\n",
        "            \"Языки\": [\"Русский\", \"Румынский\", \"Английский\"],\n",
        "            \"Особенности\": \"Опыт работы с распределёнными командами\",\n",
        "            \"Профиль\": \"https://linkedin.com/in/sergey-botnar-md\"\n",
        "        },\n",
        "        {\n",
        "            \"Имя\": \"Ольга Кравченко\",\n",
        "            \"Компания\": \"Kernel (Агро)\",\n",
        "            \"Локация\": \"Киев, Украина\",\n",
        "            \"Опыт\": \"15 лет в HR, 7 лет HR Director (агро)\",\n",
        "            \"Навыки\": [\"Performance Management\", \"Организационное развитие\", \"Succession Planning\", \"DEI\"],\n",
        "            \"Образование\": \"КНУ им. Шевченко, психология; MBA\",\n",
        "            \"Сертификации\": [\"SHRM\"],\n",
        "            \"Языки\": [\"Украинский\", \"Русский\", \"Английский\"],\n",
        "            \"Особенности\": \"Опыт внедрения программ преемственности и DEI\",\n",
        "            \"Профиль\": \"https://linkedin.com/in/olga-kravchenko-ua\"\n",
        "        },\n",
        "        {\n",
        "            \"Имя\": \"Александр Дьяченко\",\n",
        "            \"Компания\": \"Vodafone Ukraine (Телеком)\",\n",
        "            \"Локация\": \"Киев, Украина\",\n",
        "            \"Опыт\": \"12 лет в HR, 5 лет HR Director (телеком)\",\n",
        "            \"Навыки\": [\"Talent Acquisition\", \"Employer Branding\", \"HR Analytics\", \"Digital HR\"],\n",
        "            \"Образование\": \"КПИ, менеджмент; Executive MBA\",\n",
        "            \"Сертификации\": [\"CIPD\"],\n",
        "            \"Языки\": [\"Украинский\", \"Русский\", \"Английский\"],\n",
        "            \"Особенности\": \"Фокус на бренде работодателя и цифровых HR-решениях\",\n",
        "            \"Профиль\": \"https://linkedin.com/in/alexander-dyachenko-ua\"\n",
        "        },\n",
        "        {\n",
        "            \"Имя\": \"Ирина Мельник\",\n",
        "            \"Компания\": \"PrivatBank (Финансы)\",\n",
        "            \"Локация\": \"Киев, Украина\",\n",
        "            \"Опыт\": \"16 лет в HR, 8 лет HR Director (банковский сектор)\",\n",
        "            \"Навыки\": [\"Стратегический HR\", \"Управление изменениями\", \"Performance Management\", \"Digital HR\"],\n",
        "            \"Образование\": \"КНУ им. Шевченко, социология; MBA\",\n",
        "            \"Сертификации\": [\"PHRI\"],\n",
        "            \"Языки\": [\"Украинский\", \"Русский\", \"Английский\"],\n",
        "            \"Особенности\": \"Опыт управления большими командами и цифровизации HR\",\n",
        "            \"Профиль\": \"https://linkedin.com/in/irina-melnyk-ua\"\n",
        "        }\n",
        "    ]\n",
        "\n",
        "# Тестируем базу данных\n",
        "candidates = get_candidate_profiles()\n",
        "print(f\"📊 Загружено профилей: {len(candidates)}\")\n",
        "print(f\"🇲🇩 Молдова: {len([c for c in candidates if 'Молдова' in c['Локация']])}\")\n",
        "print(f\"🇺🇦 Украина: {len([c for c in candidates if 'Украина' in c['Локация']])}\")\n",
        "print(f\"🎓 С сертификациями: {len([c for c in candidates if c['Сертификации']])}\")\n",
        "print(\"✅ База данных готова!\")"
      ]
    },
    {
      "cell_type": "markdown",
      "metadata": {
        "id": "pitch_section"
      },
      "source": [
        "## 💬 Pitch Generation Module\n",
        "Generate personalized recruitment pitches"
      ]
    },
    {
      "cell_type": "code",
      "execution_count": 4,
      "metadata": {
        "id": "pitch_generator",
        "colab": {
          "base_uri": "https://localhost:8080/"
        },
        "outputId": "bad89322-f18b-402e-cde6-581b96e1f156"
      },
      "outputs": [
        {
          "output_type": "stream",
          "name": "stdout",
          "text": [
            "🧪 Тестовый питч:\n",
            "============================================================\n",
            "\n",
            "Здравствуйте, Валерий Кожокару!\n",
            "\n",
            "Меня зовут Анна Иванова, я представляю TalentBridge. Сейчас мы ищем HR Director для международной компании, развивающей инновационные проекты в регионе Молдова.\n",
            "\n",
            "Ваш опыт в Orange Moldova (Телеком), а также экспертиза в Стратегический HR, Digital HR действительно впечатляют. Особенно отмечаем ваши сертификации (CIPD) и владение языками (Русский, Румынский, Английский).\n",
            "\n",
            "Уверен(-а), что ваш опыт и лидерские качества отлично подойдут для амбициозных задач нашего клиента. Если вы рассматриваете новые карьерные возможности — буду рад(-а) обсудить детали и ответить на ваши вопросы.\n",
            "\n",
            "Спасибо и отличного дня!\n",
            "Анна Иванова\n",
            "Контакты: [ваши контакты]\n",
            "\n"
          ]
        }
      ],
      "source": [
        "# @title 📝 Pitch Generator Functions\n",
        "def generate_pitch(candidate, recruiter_name=\"Анна Иванова\", company=\"TalentBridge\"):\n",
        "    \"\"\"\n",
        "    Генерирует персонализированный питч для кандидата\n",
        "    \"\"\"\n",
        "    key_skills = \", \".join(candidate[\"Навыки\"][:2])\n",
        "    certs = \", \".join(candidate.get(\"Сертификации\", [\"нет сертификаций\"]))\n",
        "    lang = \", \".join(candidate[\"Языки\"])\n",
        "\n",
        "    pitch = f\"\"\"\n",
        "Здравствуйте, {candidate['Имя']}!\n",
        "\n",
        "Меня зовут {recruiter_name}, я представляю {company}. Сейчас мы ищем HR Director для международной компании, развивающей инновационные проекты в регионе {candidate['Локация'].split(', ')[1]}.\n",
        "\n",
        "Ваш опыт в {candidate['Компания']}, а также экспертиза в {key_skills} действительно впечатляют. Особенно отмечаем ваши сертификации ({certs}) и владение языками ({lang}).\n",
        "\n",
        "Уверен(-а), что ваш опыт и лидерские качества отлично подойдут для амбициозных задач нашего клиента. Если вы рассматриваете новые карьерные возможности — буду рад(-а) обсудить детали и ответить на ваши вопросы.\n",
        "\n",
        "Спасибо и отличного дня!\n",
        "{recruiter_name}\n",
        "Контакты: [ваши контакты]\n",
        "\"\"\"\n",
        "    return pitch\n",
        "\n",
        "def generate_all_pitches(candidates, recruiter_name=\"Анна Иванова\", company=\"TalentBridge\"):\n",
        "    \"\"\"\n",
        "    Генерирует питчи для всех кандидатов\n",
        "    \"\"\"\n",
        "    pitches = []\n",
        "    for candidate in candidates:\n",
        "        pitch = generate_pitch(candidate, recruiter_name, company)\n",
        "        pitches.append({\n",
        "            \"candidate\": candidate[\"Имя\"],\n",
        "            \"company\": candidate[\"Компания\"],\n",
        "            \"pitch\": pitch\n",
        "        })\n",
        "    return pitches\n",
        "\n",
        "# Тестируем генератор\n",
        "test_candidate = candidates[0]\n",
        "test_pitch = generate_pitch(test_candidate)\n",
        "print(\"🧪 Тестовый питч:\")\n",
        "print(\"=\" * 60)\n",
        "print(test_pitch)"
      ]
    },
    {
      "cell_type": "markdown",
      "metadata": {
        "id": "crewai_section"
      },
      "source": [
        "## 🤖 CrewAI Integration\n",
        "Set up agents for automated recruitment workflow"
      ]
    },
    {
      "cell_type": "code",
      "execution_count": null,
      "metadata": {
        "id": "setup_crewai"
      },
      "outputs": [],
      "source": [
        "# @title 🔧 Setup CrewAI Environment\n",
        "import os\n",
        "from getpass import getpass\n",
        "from crewai import Agent, Task, Crew, Process\n",
        "from textwrap import dedent\n",
        "\n",
        "# Настройка LLM (можно использовать OpenAI, Groq, или локальный Ollama)\n",
        "# Для демо используем простую заглушку, в реальности нужен API ключ\n",
        "\n",
        "try:\n",
        "    from crewai import LLM\n",
        "    # Попробуем использовать OpenAI (нужен API ключ)\n",
        "    api_key = getpass(\"🔑 Введите OpenAI API ключ (или нажмите Enter для пропуска): \")\n",
        "    if api_key:\n",
        "        os.environ[\"OPENAI_API_KEY\"] = api_key\n",
        "        llm = LLM(model=\"gpt-3.5-turbo\")\n",
        "        print(\"✅ OpenAI LLM настроен\")\n",
        "    else:\n",
        "        # Fallback к простой заглушке\n",
        "        llm = None\n",
        "        print(\"⚠️ LLM не настроен, будем использовать простые функции\")\n",
        "except Exception as e:\n",
        "    llm = None\n",
        "    print(f\"⚠️ Ошибка настройки LLM: {e}\")\n",
        "    print(\"Продолжаем без CrewAI агентов\")"
      ]
    },
    {
      "cell_type": "code",
      "execution_count": null,
      "metadata": {
        "id": "define_agents"
      },
      "outputs": [],
      "source": [
        "# @title 🕵️ Define CrewAI Agents\n",
        "if llm:\n",
        "    # Agent 1: Profile Collector\n",
        "    profile_collector = Agent(\n",
        "        role=dedent(\"\"\"Profile Collector\"\"\"),\n",
        "        goal=dedent(\"\"\"Collect and analyze HR Director candidate profiles from Moldova and Ukraine\"\"\"),\n",
        "        backstory=dedent(\"\"\"You are an experienced HR recruiter specializing in Eastern European markets, with deep knowledge of local talent pools and industry trends.\"\"\"),\n",
        "        allow_delegation=False,\n",
        "        verbose=True,\n",
        "        max_iter=3,\n",
        "        llm=llm\n",
        "    )\n",
        "\n",
        "    # Agent 2: Competency Analyzer\n",
        "    competency_analyzer = Agent(\n",
        "        role=dedent(\"\"\"Competency Analyzer\"\"\"),\n",
        "        goal=dedent(\"\"\"Analyze candidate competencies and match them with job requirements\"\"\"),\n",
        "        backstory=dedent(\"\"\"You are an HR analytics expert who specializes in competency mapping, skills assessment, and candidate-role matching for senior HR positions.\"\"\"),\n",
        "        allow_delegation=False,\n",
        "        verbose=True,\n",
        "        max_iter=3,\n",
        "        llm=llm\n",
        "    )\n",
        "\n",
        "    # Agent 3: Pitch Writer\n",
        "    pitch_writer = Agent(\n",
        "        role=dedent(\"\"\"Recruitment Pitch Writer\"\"\"),\n",
        "        goal=dedent(\"\"\"Create personalized, compelling recruitment pitches for HR Director candidates\"\"\"),\n",
        "        backstory=dedent(\"\"\"You are a skilled communicator and recruitment marketing specialist who crafts personalized messages that resonate with senior HR professionals.\"\"\"),\n",
        "        allow_delegation=False,\n",
        "        verbose=True,\n",
        "        max_iter=3,\n",
        "        llm=llm\n",
        "    )\n",
        "\n",
        "    print(\"✅ CrewAI агенты настроены:\")\n",
        "    print(\"   - Profile Collector\")\n",
        "    print(\"   - Competency Analyzer\")\n",
        "    print(\"   - Pitch Writer\")\n",
        "else:\n",
        "    print(\"⚠️ CrewAI агенты не настроены (нет LLM)\")"
      ]
    },
    {
      "cell_type": "markdown",
      "metadata": {
        "id": "execution_section"
      },
      "source": [
        "## 🚀 Execution Section\n",
        "Run the recruitment workflow"
      ]
    },
    {
      "cell_type": "code",
      "execution_count": null,
      "metadata": {
        "id": "input_parameters"
      },
      "outputs": [],
      "source": [
        "# @title 📝 Input Parameters\n",
        "print(\"## 👥 Welcome to HR Director Recruitment System\")\n",
        "print('-------------------------------------------')\n",
        "\n",
        "# Input variables\n",
        "recruiter_name = input(\"👤 Ваше имя (рекрутер): \") or \"Анна Иванова\"\n",
        "company_name = input(\"🏢 Название компании/агентства: \") or \"TalentBridge\"\n",
        "target_region = input(\"🌍 Целевой регион (Moldova/Ukraine/Both): \") or \"Both\"\n",
        "\n",
        "print('-------------------------------------------')\n",
        "print(f\"✔️ Параметры получены:\")\n",
        "print(f\"Рекрутер: {recruiter_name}\")\n",
        "print(f\"Компания: {company_name}\")\n",
        "print(f\"Регион: {target_region}\")"
      ]
    },
    {
      "cell_type": "code",
      "execution_count": null,
      "metadata": {
        "id": "run_workflow"
      },
      "outputs": [],
      "source": [
        "# @title 🚀 Run Recruitment Workflow\n",
        "def run_recruitment_workflow():\n",
        "    \"\"\"\n",
        "    Основной workflow для поиска и генерации питчей\n",
        "    \"\"\"\n",
        "    print(\"🔄 Запуск workflow рекрутмента...\")\n",
        "\n",
        "    # Шаг 1: Загрузка кандидатов\n",
        "    candidates = get_candidate_profiles()\n",
        "\n",
        "    # Фильтрация по региону\n",
        "    if target_region.lower() == \"moldova\":\n",
        "        candidates = [c for c in candidates if \"Молдова\" in c[\"Локация\"]]\n",
        "    elif target_region.lower() == \"ukraine\":\n",
        "        candidates = [c for c in candidates if \"Украина\" in c[\"Локация\"]]\n",
        "\n",
        "    print(f\"📊 Найдено кандидатов: {len(candidates)}\")\n",
        "\n",
        "    # Шаг 2: Анализ компетенций\n",
        "    print(\"\n",
        "🔍 Анализ компетенций...\")\n",
        "    all_skills = []\n",
        "    for candidate in candidates:\n",
        "        all_skills.extend(candidate[\"Навыки\"])\n",
        "\n",
        "    skill_counts = {}\n",
        "    for skill in all_skills:\n",
        "        skill_counts[skill] = skill_counts.get(skill, 0) + 1\n",
        "\n",
        "    top_skills = sorted(skill_counts.items(), key=lambda x: x[1], reverse=True)[:5]\n",
        "    print(\"Топ-5 навыков:\")\n",
        "    for skill, count in top_skills:\n",
        "        print(f\"  - {skill}: {count} кандидат(ов)\")\n",
        "\n",
        "    # Шаг 3: Генерация питчей\n",
        "    print(\"\n",
        "💬 Генерация персонализированных питчей...\")\n",
        "    pitches = generate_all_pitches(candidates, recruiter_name, company_name)\n",
        "\n",
        "    return candidates, pitches\n",
        "\n",
        "# Запускаем workflow\n",
        "candidates_filtered, all_pitches = run_recruitment_workflow()\n",
        "print(\"\n",
        "✅ Workflow завершён!\")"
      ]
    },
    {
      "cell_type": "markdown",
      "metadata": {
        "id": "results_section"
      },
      "source": [
        "## 📋 Results Display\n",
        "View generated pitches and candidate analysis"
      ]
    },
    {
      "cell_type": "code",
      "execution_count": null,
      "metadata": {
        "id": "display_results"
      },
      "outputs": [],
      "source": [
        "# @title 📊 Display Results\n",
        "from IPython.display import display, Markdown\n",
        "\n",
        "def display_pitches_as_markdown(pitches):\n",
        "    \"\"\"\n",
        "    Отображает питчи в формате Markdown\n",
        "    \"\"\"\n",
        "    markdown_content = \"# 💼 Персонализированные питчи для кандидатов\\n\\n\"\n",
        "\n",
        "    for i, pitch_data in enumerate(pitches, 1):\n",
        "        markdown_content += f\"## {i}. {pitch_data['candidate']} ({pitch_data['company']})\\n\\n\"\n",
        "        markdown_content += f\"```\\n{pitch_data['pitch']}\\n```\\n\\n\"\n",
        "        markdown_content += \"---\\n\\n\"\n",
        "\n",
        "    return markdown_content\n",
        "\n",
        "# Отображаем результаты\n",
        "markdown_pitches = display_pitches_as_markdown(all_pitches)\n",
        "display(Markdown(markdown_pitches))"
      ]
    },
    {
      "cell_type": "code",
      "execution_count": null,
      "metadata": {
        "id": "export_results"
      },
      "outputs": [],
      "source": [
        "# @title 💾 Export Results\n",
        "import json\n",
        "from datetime import datetime\n",
        "\n",
        "def export_results(candidates, pitches, filename=None):\n",
        "    \"\"\"\n",
        "    Экспортирует результаты в JSON файл\n",
        "    \"\"\"\n",
        "    if not filename:\n",
        "        timestamp = datetime.now().strftime(\"%Y%m%d_%H%M%S\")\n",
        "        filename = f\"hr_recruitment_results_{timestamp}.json\"\n",
        "\n",
        "    export_data = {\n",
        "        \"timestamp\": datetime.now().isoformat(),\n",
        "        \"recruiter\": recruiter_name,\n",
        "        \"company\": company_name,\n",
        "        \"target_region\": target_region,\n",
        "        \"candidates_count\": len(candidates),\n",
        "        \"candidates\": candidates,\n",
        "        \"pitches\": pitches\n",
        "    }\n",
        "\n",
        "    with open(filename, 'w', encoding='utf-8') as f:\n",
        "        json.dump(export_data, f, ensure_ascii=False, indent=2)\n",
        "\n",
        "    print(f\"📁 Результаты экспортированы в: {filename}\")\n",
        "    return filename\n",
        "\n",
        "# Экспортируем результаты\n",
        "export_filename = export_results(candidates_filtered, all_pitches)\n",
        "\n",
        "# Показываем статистику\n",
        "print(f\"\n",
        "📈 Итоговая статистика:\")\n",
        "print(f\"   - Обработано кандидатов: {len(candidates_filtered)}\")\n",
        "print(f\"   - Сгенерировано питчей: {len(all_pitches)}\")\n",
        "print(f\"   - Регион: {target_region}\")\n",
        "print(f\"   - Рекрутер: {recruiter_name}\")\n",
        "print(f\"   - Компания: {company_name}\")"
      ]
    },
    {
      "cell_type": "markdown",
      "metadata": {
        "id": "conclusion"
      },
      "source": [
        "## 🎯 Conclusion\n",
        "\n",
        "Этот notebook демонстрирует полный цикл автоматизированного рекрутмента для позиции HR Director:\n",
        "\n",
        "✅ **Что мы сделали:**\n",
        "- Собрали базу кандидатов из Молдовы и Украины\n",
        "- Проанализировали их компетенции\n",
        "- Сгенерировали персонализированные питчи\n",
        "- Настроили интеграцию с CrewAI для автоматизации\n",
        "\n",
        "🚀 **Возможности расширения:**\n",
        "- Интеграция с LinkedIn API для автоматического поиска\n",
        "- Использование локальных LLM через Ollama\n",
        "- Добавление email-рассылки\n",
        "- Система трекинга откликов\n",
        "- Интеграция с ATS системами\n",
        "\n",
        "💡 **Следующие шаги:**\n",
        "1. Настройте API ключи для полной функциональности\n",
        "2. Адаптируйте под ваши требования к кандидатам\n",
        "3. Интегрируйте с вашими HR-системами\n",
        "4. Добавьте автоматическую отправку питчей"
      ]
    }
  ],
  "metadata": {
    "colab": {
      "provenance": [],
      "include_colab_link": true
    },
    "kernelspec": {
      "display_name": "Python 3",
      "name": "python3"
    },
    "language_info": {
      "name": "python"
    }
  },
  "nbformat": 4,
  "nbformat_minor": 0
}